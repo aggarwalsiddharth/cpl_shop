{
 "cells": [
  {
   "cell_type": "code",
   "execution_count": 105,
   "id": "1e87565c",
   "metadata": {},
   "outputs": [],
   "source": [
    "st = \"hostal\thostal\thostal\t宿主\tGospodarz\t敵\thostal\thostal\thostal\tHostal\"\n",
    "\n",
    "\n"
   ]
  },
  {
   "cell_type": "code",
   "execution_count": 106,
   "id": "c924c397",
   "metadata": {},
   "outputs": [
    {
     "data": {
      "text/plain": [
       "\"[('hostal','SPLIT'), ('宿主','SPLIT'), ('gospodarz','SPLIT'), ('敵','SPLIT')]\""
      ]
     },
     "execution_count": 106,
     "metadata": {},
     "output_type": "execute_result"
    }
   ],
   "source": [
    "str(list(set([\"('\"+x.strip().lower()+\"','SPLIT')\" for x in st.replace('/','\t').split('\t')]))).replace('\"','')"
   ]
  },
  {
   "cell_type": "code",
   "execution_count": 100,
   "id": "b42b97d1",
   "metadata": {},
   "outputs": [
    {
     "data": {
      "text/plain": [
       "(('fyrdubbling', 'SPLIT'),\n",
       " ('triple udostępnianie', 'SPLIT'),\n",
       " ('dzielenie się quad', 'SPLIT'),\n",
       " ('quarto triplo', 'SPLIT'),\n",
       " ('トリプルルーム', 'SPLIT'),\n",
       " ('quad room', 'SPLIT'),\n",
       " ('quarto quádruplo / quarto quadruplo', 'SPLIT'),\n",
       " ('四室', 'SPLIT'),\n",
       " ('habitación triple', 'SPLIT'),\n",
       " ('fyrdel', 'SPLIT'),\n",
       " ('partage quadruple', 'SPLIT'),\n",
       " ('compartilhamento quádruplo / compartilhamento quadruplo', 'SPLIT'),\n",
       " ('triple room', 'SPLIT'),\n",
       " ('triple compartido', 'SPLIT'),\n",
       " ('üçlü paylaşım', 'SPLIT'),\n",
       " ('habitación cuádruple / habitacion triple', 'SPLIT'),\n",
       " ('trippeldelning', 'SPLIT'),\n",
       " ('dörtlü paylaşım', 'SPLIT'),\n",
       " ('トリプル共有', 'SPLIT'),\n",
       " ('trippelrum', 'SPLIT'),\n",
       " ('三人间', 'SPLIT'),\n",
       " ('cuádruple compartido / cuadruple compartido', 'SPLIT'),\n",
       " ('四方共享', 'SPLIT'),\n",
       " ('camera tripla', 'SPLIT'),\n",
       " ('triple partage', 'SPLIT'),\n",
       " ('compartilhamento triplo', 'SPLIT'),\n",
       " ('quad', 'SPLIT'),\n",
       " ('dreibettzimmer', 'SPLIT'),\n",
       " ('condivisione quad', 'SPLIT'),\n",
       " ('chambre triple', 'SPLIT'),\n",
       " ('dörtlü oda', 'SPLIT'),\n",
       " ('üçlü oda', 'SPLIT'),\n",
       " ('三重分享', 'SPLIT'),\n",
       " ('quad sharing', 'SPLIT'),\n",
       " ('dreifachheilung', 'SPLIT'),\n",
       " ('tripla condivisione', 'SPLIT'),\n",
       " ('クアッドルーム', 'SPLIT'),\n",
       " ('クワッド共有', 'SPLIT'),\n",
       " ('pokój czteroosobowy', 'SPLIT'),\n",
       " ('quadraum', 'SPLIT'))"
      ]
     },
     "execution_count": 100,
     "metadata": {},
     "output_type": "execute_result"
    }
   ],
   "source": [
    "('fyrdubbling','SPLIT'), ('triple udostępnianie','SPLIT'), ('dzielenie się quad','SPLIT'), ('quarto triplo','SPLIT'), ('トリプルルーム','SPLIT'), ('quad room','SPLIT'), ('quarto quádruplo / quarto quadruplo','SPLIT'), ('四室','SPLIT'), ('habitación triple','SPLIT'), ('fyrdel','SPLIT'), ('partage quadruple','SPLIT'), ('compartilhamento quádruplo / compartilhamento quadruplo','SPLIT'), ('triple room','SPLIT'), ('triple compartido','SPLIT'), ('üçlü paylaşım','SPLIT'), ('habitación cuádruple / habitacion triple','SPLIT'), ('trippeldelning','SPLIT'), ('dörtlü paylaşım','SPLIT'), ('トリプル共有','SPLIT'), ('trippelrum','SPLIT'), ('三人间','SPLIT'), ('cuádruple compartido / cuadruple compartido','SPLIT'), ('四方共享','SPLIT'), ('camera tripla','SPLIT'), ('triple partage','SPLIT'), ('compartilhamento triplo','SPLIT'), ('quad','SPLIT'), ('dreibettzimmer','SPLIT'), ('condivisione quad','SPLIT'), ('chambre triple','SPLIT'), ('dörtlü oda','SPLIT'), ('üçlü oda','SPLIT'), ('三重分享','SPLIT'), ('quad sharing','SPLIT'), ('dreifachheilung','SPLIT'), ('tripla condivisione','SPLIT'), ('クアッドルーム','SPLIT'), ('クワッド共有','SPLIT'), ('pokój czteroosobowy','SPLIT'), ('quadraum','SPLIT')"
   ]
  },
  {
   "cell_type": "code",
   "execution_count": null,
   "id": "5ed1e701",
   "metadata": {},
   "outputs": [],
   "source": [
    "('aparthouse','NO_SPLIT')"
   ]
  },
  {
   "cell_type": "code",
   "execution_count": 111,
   "id": "d3bc6a5b",
   "metadata": {},
   "outputs": [],
   "source": [
    "fc = ' i have an alergy to loud music. feel like throwing up'"
   ]
  },
  {
   "cell_type": "code",
   "execution_count": 112,
   "id": "d421ce54",
   "metadata": {},
   "outputs": [
    {
     "data": {
      "text/plain": [
       "True"
      ]
     },
     "execution_count": 112,
     "metadata": {},
     "output_type": "execute_result"
    }
   ],
   "source": [
    "'alergy to' in ' '.join(fc.split(' '))"
   ]
  },
  {
   "cell_type": "code",
   "execution_count": 35,
   "id": "2ea61a7b",
   "metadata": {},
   "outputs": [
    {
     "data": {
      "text/plain": [
       "' i have an alergyto loud music. feel like throwing up'"
      ]
     },
     "execution_count": 35,
     "metadata": {},
     "output_type": "execute_result"
    }
   ],
   "source": [
    "' '.join(fc.split(' '))"
   ]
  },
  {
   "cell_type": "code",
   "execution_count": 114,
   "id": "e301909a",
   "metadata": {},
   "outputs": [],
   "source": [
    "words_dict = {'aparthouse': [('aparthouse','NO_SPLIT'), ('apart house','NO_SPLIT'), ('à part la maison','SPLIT'), ('aussen haus','SPLIT'), ('farik','SPLIT'), ('apartamento','SPLIT'), ('casa apartamento','SPLIT'), ('aparthus','SPLIT'), ('除了房子','SPLIT'), ('家は離れています','SPLIT'), ('ayrı ev','SPLIT'), ('dom','SPLIT'), ('från det här huset','SPLIT'), ('アパートハウス','SPLIT')], \n",
    "\n",
    "         'dormitory':[('dormitory','NO_SPLIT'),('dorm','SPLIT'),('dorms','SPLIT'), ('宿舍','SPLIT'), ('residencia estudiantil','SPLIT'), ('yurt','SPLIT'), ('dortoir','SPLIT'), ('dormitório','SPLIT'), ('寮','SPLIT'), ('akademik','SPLIT'), ('sovsal','SPLIT'), ('schlafsaal','SPLIT'), ('dormitorio','SPLIT'), ('宿舍','SPLIT'), ('yurt','SPLIT'), ('dortoirs','SPLIT'), ('schlafsäle','SPLIT'),  ('sovsalar','SPLIT'), ('sala sypialna','SPLIT'), ('寮','SPLIT'), ('studenthem','SPLIT'), ('akademiki','SPLIT'), ('dormitorios','SPLIT'), ('dormitórios','SPLIT'),  ('wohnheim','SPLIT'), ('dormi','SPLIT')],\n",
    "         \n",
    "         'guesthouse':[('guesthouse','NO_SPLIT'),('guest house','NO_SPLIT'),('gasthof','NO_SPLIT'),('gasthaus','NO_SPLIT'), ('domek gościnny','SPLIT'), ('ゲストハウス','SPLIT'), (\"maison d'hôtes\",'SPLIT'), ('casa de hóspedes','SPLIT'), ('gästhus','SPLIT'), ('gasthaus','SPLIT'), ('casa de huespedes','SPLIT'), ('casa de hospedes','SPLIT'), ('pensione','SPLIT'), ('招待所','SPLIT'), ('casa de huéspedes','SPLIT'), ('misafirhane','SPLIT'), ('posada','SPLIT'), ('加斯塔斯','SPLIT'), ('ガスサウス','SPLIT'), ('gastron','SPLIT'), ('ガソリン','SPLIT'), ('pousada','SPLIT'), ('gashaus','SPLIT'), ('加斯托夫','SPLIT')],\n",
    "         \n",
    "         'hostel':[('hostel','NO_SPLIT'),('hostal','SPLIT'),('auberge','SPLIT'), ('ostello','SPLIT'), ('vandrarhem','SPLIT'), ('herberge','SPLIT'), ('schronisko','SPLIT'), ('旅馆','SPLIT'), ('ホステル','SPLIT'), ('pansiyon','SPLIT'), ('albergue','SPLIT'), ('宿主','SPLIT'), ('gospodarz','SPLIT'), ('敵','SPLIT') ],\n",
    "         \n",
    "         'cottage':[('cottage','NO_SPLIT'), ('domek','SPLIT'), ('kır evi','SPLIT'), ('cabaña','SPLIT'), ('chalet','SPLIT'), ('chale','SPLIT'), ('villetta','SPLIT'), ('chalé','SPLIT'), ('stuga','SPLIT'), ('cabana','SPLIT'), ('コテージ','SPLIT'), ('hütte','SPLIT'), ('小屋','SPLIT')],\n",
    "         \n",
    "         'sharing':[('quad sharing','NO_SPLIT'),('triple sharing','NO_SPLIT'),('quad room','NO_SPLIT'),('triple room','NO_SPLIT'), ('cuádruple compartido','SPLIT'), ('fyrdubbling','SPLIT'), ('triple udostępnianie','SPLIT'), ('dzielenie się quad','SPLIT'), ('quarto triplo','SPLIT'), ('トリプルルーム','SPLIT'), ('quad room','SPLIT'), ('四室','SPLIT'), ('habitación triple','SPLIT'), ('habitación cuádruple','SPLIT'), ('cuadruple compartido','SPLIT'), ('quarto quadruplo','SPLIT'), ('fyrdel','SPLIT'), ('partage quadruple','SPLIT'), ('triple room','SPLIT'), ('triple compartido','SPLIT'), ('üçlü paylaşım','SPLIT'), ('habitacion triple','SPLIT'), ('trippeldelning','SPLIT'), ('dörtlü paylaşım','SPLIT'), ('トリプル共有','SPLIT'), ('trippelrum','SPLIT'), ('三人间','SPLIT'), ('四方共享','SPLIT'), ('camera tripla','SPLIT'), ('triple partage','SPLIT'), ('compartilhamento triplo','SPLIT'), ('quad','SPLIT'), ('quarto quádruplo','SPLIT'), ('dreibettzimmer','SPLIT'), ('condivisione quad','SPLIT'), ('compartilhamento quadruplo','SPLIT'), ('chambre triple','SPLIT'), ('dörtlü oda','SPLIT'), ('üçlü oda','SPLIT'), ('三重分享','SPLIT'), ('quad sharing','SPLIT'), ('dreifachheilung','SPLIT'), ('tripla condivisione','SPLIT'), ('クアッドルーム','SPLIT'), ('compartilhamento quádruplo','SPLIT'), ('クワッド共有','SPLIT'), ('pokój czteroosobowy','SPLIT'), ('quadraum','SPLIT')],\n",
    "         \n",
    "         'backpacker':[('backpacker','NO_SPLIT'), ('mochileiro','SPLIT'), ('randonneur','SPLIT'), ('バックパッカー','SPLIT'), ('mochilero','SPLIT'), ('背包客','SPLIT'), ('backpacker','SPLIT'), ('ryggsäck','SPLIT')],\n",
    "         \n",
    "         'houseboat':[('houseboat','NO_SPLIT'), ('casa galleggiante','SPLIT'), ('ev gemisi','SPLIT'), ('husbåt','SPLIT'), ('casa flutuante','SPLIT'), ('houseboat','SPLIT'), ('péniche','SPLIT'), ('船屋','SPLIT'), ('casa flotante','SPLIT'), ('hausboot','SPLIT'), ('ハウスボート','SPLIT')],\n",
    "         \n",
    "         'bed_and_breakfast':[('bed and breakfast','NO_SPLIT') , ('bed-and-breakfast','NO_SPLIT' ), \n",
    "                     ('bed & breakfast','NO_SPLIT'),  ('bed&breakfast','NO_SPLIT'), ( 'bnb','NO_SPLIT'),  ('b&b','NO_SPLIT'), ('übernachtung mit frühstück','SPLIT'), ('cama e cafe','SPLIT'), ('yatak ve kahvaltı','SPLIT'), ('ベッドアンドブレークファースト','SPLIT'), ('cama e café','SPLIT'), ('oda & kahvaltı','SPLIT'), ('床和早餐','SPLIT'), ('säng & frukost','SPLIT'), ('cama y desayuno','SPLIT'), ('bädd och breakfast','SPLIT'), ('łóżko i śniadanie','SPLIT'), ('säng och frukost','SPLIT'), ('nocleg ze śniadaniem','SPLIT'), ('lit et petit déjeuné','SPLIT'),  ('ベッドアンドブレックファースト','SPLIT'), ('ベッド＆ブレックファスト','SPLIT'), ('b & b','SPLIT'), ('lit et petit-déjeuner','SPLIT')],\n",
    "                     \n",
    "        'trucker':[('trucker','NO_SPLIT'), ('camionero','SPLIT'), ('caminhoneiro','SPLIT'), ('卡车司机','SPLIT'), ('lastbil','SPLIT'), ('tir şoförü','SPLIT'), ('camionneur','SPLIT'), ('ciężarowiec','SPLIT'), ('trucker','SPLIT'), ('トラック運転手','SPLIT'), ('camionista','SPLIT')],\n",
    "        \n",
    "        'night_club':[('night club','NO_SPLIT'), ('discoteca','SPLIT'), ('nattklubb','SPLIT'), ('klub nocny','SPLIT'), ('ナイトクラブ','SPLIT'), ('gece kulübü','SPLIT'), ('boîte de nuit','SPLIT'), ('夜店','SPLIT'), ('casa noturna','SPLIT'), ('nachtclub','SPLIT')],\n",
    "        \n",
    "        'light_sleep':[('light sleep','NO_SPLIT'), ('lätt sömn','SPLIT'), ('浅睡眠','SPLIT'), ('sonno leggero','SPLIT'), ('sommeil léger','SPLIT'), ('lekki sen','SPLIT'), ('sueño ligero','SPLIT'), ('hafif uyku','SPLIT'), ('sono leve','SPLIT'), ('leichter schlaf','SPLIT'), ('浅い眠り','SPLIT'), ('sueno ligero','SPLIT')],\n",
    "        \n",
    "        'inn':[('inn','SPLIT'),('inns','SPLIT'), ('auberge','SPLIT'), ('posadas','SPLIT'), ('客栈','SPLIT'), ('auberges','SPLIT'), ('旅馆','SPLIT'), ('locanda','SPLIT'), ('宿','SPLIT'), ('zajazd','SPLIT'), ('hanım','SPLIT'), ('värdshus','SPLIT'), ('locande','SPLIT'), ('han','SPLIT')],\n",
    "        \n",
    "        'farm':[('farm','SPLIT'),('farms','SPLIT'), ('fazenda','SPLIT'), ('çiftlik','SPLIT'), ('granja','SPLIT'), ('農場','SPLIT'), ('fattorie','SPLIT'), ('gospodarstwo rolne','SPLIT'), ('cultiver','SPLIT'), ('gospodarstwa','SPLIT'), ('azienda agricola','SPLIT'), ('农场','SPLIT'), ('odla','SPLIT'), ('fermes','SPLIT'), ('granjas','SPLIT'), ('fazendas','SPLIT'), ('çiftlikler','SPLIT'), ('gårdar','SPLIT'), ('farmen','SPLIT'), ('bauernhof','SPLIT')],\n",
    "        \n",
    "        'lodge':[('lodge','SPLIT'),('lodges','SPLIT'), ('logge','SPLIT'), ('loże','SPLIT'), ('alojamientos','SPLIT'), ('wigwam','SPLIT'), ('ロッジ','SPLIT'), ('stift','SPLIT'), ('loge','SPLIT'), ('alojamiento','SPLIT'), ('旅馆','SPLIT'), ('alojamento','SPLIT'), ('stuga','SPLIT'),  ('alojamentos','SPLIT'), ('hütte','SPLIT'), ('小屋','SPLIT'), ('loges','SPLIT')],\n",
    "        \n",
    "        'motel':[('motel','SPLIT'),('motels','SPLIT'), ('motele','SPLIT'), ('motéis','SPLIT'), ('motell','SPLIT'),  ('モーテル','SPLIT'), ('moteller','SPLIT'), ('汽车旅馆','SPLIT'), ('moteles','SPLIT')],\n",
    "        \n",
    "        'cabin':[('cabin','SPLIT'),('cabins','SPLIT'), ('cabanas','SPLIT'), ('kabiny','SPLIT'), ('キャビン','SPLIT'), ('cabañas','SPLIT'), ('cabaña','SPLIT'), ('cabina','SPLIT'), ('cabine','SPLIT'), ('stugor','SPLIT'), ('kabine','SPLIT'), ('cabines','SPLIT'), ('kabin','SPLIT'), ('舱','SPLIT'), ('cabana','SPLIT'), ('stuga','SPLIT'), ('hütten','SPLIT'), ('kabina','SPLIT'), ('小屋','SPLIT')],\n",
    "        \n",
    "        'shared':[('shared','SPLIT'), ('compartido','SPLIT'), ('condiviso','SPLIT'), ('delad','SPLIT'), ('geteilt','SPLIT'), ('partagé','SPLIT'), ('compartilhado','SPLIT'), ('wspólny','SPLIT'), ('ortak','SPLIT'), ('共享','SPLIT'), ('共有','SPLIT')],\n",
    "        \n",
    "        'pension':[('pension','SPLIT'),('pensions','SPLIT'), ('emerytury','SPLIT'), ('pensión','SPLIT'), ('养老金','SPLIT'), ('pensiones','SPLIT'), ('pensioni','SPLIT'), ('年金','SPLIT'), ('pensao','SPLIT'), ('退休金','SPLIT'), ('emeklilik','SPLIT'), ('pensione','SPLIT'), ('pensões','SPLIT'), ('pensoes','SPLIT'), ('renten','SPLIT'), ('emerytura','SPLIT'), ('pensão','SPLIT')],\n",
    "        \n",
    "        'college':[('college','SPLIT'),('colleges','SPLIT'), ('collège','SPLIT'), ('大学','SPLIT'), ('colegios','SPLIT'), ('uczelnie','SPLIT'), ('カレッジ','SPLIT'), ('colegio','SPLIT'), ('hochschule','SPLIT'), ('szkoła wyższa','SPLIT'), ('faculdades','SPLIT'), ('högskola','SPLIT'), ('università','SPLIT'), ('högskolor','SPLIT'), ('faculdade','SPLIT'), ('kolej','SPLIT'), ('kolejler','SPLIT'), ('collèges','SPLIT')],\n",
    "        \n",
    "        'garni':[('garni','SPLIT'), ('ガルニ','SPLIT'), ('加尼','SPLIT')]\n",
    "}"
   ]
  },
  {
   "cell_type": "code",
   "execution_count": 117,
   "id": "d38de249",
   "metadata": {},
   "outputs": [
    {
     "data": {
      "text/plain": [
       "{'bed_and_breakfast': [('bed and breakfast', 'NO_SPLIT'),\n",
       "  ('bed-and-breakfast', 'NO_SPLIT'),\n",
       "  ('bed & breakfast', 'NO_SPLIT'),\n",
       "  ('bed&breakfast', 'NO_SPLIT'),\n",
       "  ('bnb', 'NO_SPLIT'),\n",
       "  ('b&b', 'NO_SPLIT'),\n",
       "  ('übernachtung mit frühstück', 'SPLIT'),\n",
       "  ('cama e cafe', 'SPLIT'),\n",
       "  ('yatak ve kahvaltı', 'SPLIT'),\n",
       "  ('ベッドアンドブレークファースト', 'SPLIT'),\n",
       "  ('cama e café', 'SPLIT'),\n",
       "  ('oda & kahvaltı', 'SPLIT'),\n",
       "  ('床和早餐', 'SPLIT'),\n",
       "  ('säng & frukost', 'SPLIT'),\n",
       "  ('cama y desayuno', 'SPLIT'),\n",
       "  ('bädd och breakfast', 'SPLIT'),\n",
       "  ('łóżko i śniadanie', 'SPLIT'),\n",
       "  ('säng och frukost', 'SPLIT'),\n",
       "  ('nocleg ze śniadaniem', 'SPLIT'),\n",
       "  ('lit et petit déjeuné', 'SPLIT'),\n",
       "  ('ベッドアンドブレックファースト', 'SPLIT'),\n",
       "  ('ベッド＆ブレックファスト', 'SPLIT'),\n",
       "  ('b & b', 'SPLIT'),\n",
       "  ('lit et petit-déjeuner', 'SPLIT')]}"
      ]
     },
     "execution_count": 117,
     "metadata": {},
     "output_type": "execute_result"
    }
   ],
   "source": [
    "{'bed_and_breakfast':[('bed and breakfast','NO_SPLIT') , ('bed-and-breakfast','NO_SPLIT' ), \n",
    "                     ('bed & breakfast','NO_SPLIT'),  ('bed&breakfast','NO_SPLIT'), ( 'bnb','NO_SPLIT'),  ('b&b','NO_SPLIT'), ('übernachtung mit frühstück','SPLIT'), ('cama e cafe','SPLIT'), ('yatak ve kahvaltı','SPLIT'), ('ベッドアンドブレークファースト','SPLIT'), ('cama e café','SPLIT'), ('oda & kahvaltı','SPLIT'), ('床和早餐','SPLIT'), ('säng & frukost','SPLIT'), ('cama y desayuno','SPLIT'), ('bädd och breakfast','SPLIT'), ('łóżko i śniadanie','SPLIT'), ('säng och frukost','SPLIT'), ('nocleg ze śniadaniem','SPLIT'), ('lit et petit déjeuné','SPLIT'),  ('ベッドアンドブレックファースト','SPLIT'), ('ベッド＆ブレックファスト','SPLIT'), ('b & b','SPLIT'), ('lit et petit-déjeuner','SPLIT')],\n",
    "                     \n",
    "}"
   ]
  },
  {
   "cell_type": "code",
   "execution_count": null,
   "id": "9e2ad5fc",
   "metadata": {},
   "outputs": [],
   "source": []
  }
 ],
 "metadata": {
  "kernelspec": {
   "display_name": "Python 3 (ipykernel)",
   "language": "python",
   "name": "python3"
  },
  "language_info": {
   "codemirror_mode": {
    "name": "ipython",
    "version": 3
   },
   "file_extension": ".py",
   "mimetype": "text/x-python",
   "name": "python",
   "nbconvert_exporter": "python",
   "pygments_lexer": "ipython3",
   "version": "3.10.11"
  }
 },
 "nbformat": 4,
 "nbformat_minor": 5
}
