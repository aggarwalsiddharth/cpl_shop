{
 "cells": [
  {
   "cell_type": "code",
   "execution_count": 148,
   "id": "c41ff2e6",
   "metadata": {},
   "outputs": [],
   "source": [
    "%%capture\n",
    "!pip install pywhatkit"
   ]
  },
  {
   "cell_type": "code",
   "execution_count": 2,
   "id": "261cb4b8",
   "metadata": {},
   "outputs": [],
   "source": [
    "import pywhatkit\n",
    "import pandas as pd"
   ]
  },
  {
   "cell_type": "code",
   "execution_count": null,
   "id": "bb44708f",
   "metadata": {},
   "outputs": [],
   "source": [
    "keywords = ['kithcen furniture manufacturers','school furniture manufacturers','modular kithcen furniture manufacturers','mdf dealers','bank furniture manufacturers','speaker manufacturers','interior designers',]"
   ]
  },
  {
   "cell_type": "code",
   "execution_count": 13,
   "id": "ff7a250a",
   "metadata": {},
   "outputs": [],
   "source": [
    "query = 'mdf dealers'\n",
    "location = 'mohali'"
   ]
  },
  {
   "cell_type": "code",
   "execution_count": 14,
   "id": "4d42543e",
   "metadata": {},
   "outputs": [
    {
     "name": "stdout",
     "output_type": "stream",
     "text": [
      "\r\n",
      "FILE SAVED\r\n",
      "\r\n"
     ]
    }
   ],
   "source": [
    "!python script.py --search_query {query} --search_location {location}"
   ]
  },
  {
   "cell_type": "code",
   "execution_count": 86,
   "id": "8cc4f816",
   "metadata": {},
   "outputs": [],
   "source": [
    "file = pd.read_csv(f'result/{location}/{query}.csv')"
   ]
  },
  {
   "cell_type": "code",
   "execution_count": 87,
   "id": "23f5365f",
   "metadata": {},
   "outputs": [],
   "source": [
    "file = file[file['phone']!='NOT AVAILABLE'][['name','phone','address']].reset_index(drop = True)"
   ]
  },
  {
   "cell_type": "code",
   "execution_count": 88,
   "id": "2431d53f",
   "metadata": {},
   "outputs": [],
   "source": [
    "file['name'] = file['name'].fillna('')"
   ]
  },
  {
   "cell_type": "code",
   "execution_count": 89,
   "id": "eef41bcc",
   "metadata": {},
   "outputs": [],
   "source": [
    "name = 'Luxmi Plywood & Hardware Mall, LPHM'"
   ]
  },
  {
   "cell_type": "code",
   "execution_count": 90,
   "id": "0c063fcb",
   "metadata": {},
   "outputs": [
    {
     "data": {
      "text/html": [
       "<div>\n",
       "<style scoped>\n",
       "    .dataframe tbody tr th:only-of-type {\n",
       "        vertical-align: middle;\n",
       "    }\n",
       "\n",
       "    .dataframe tbody tr th {\n",
       "        vertical-align: top;\n",
       "    }\n",
       "\n",
       "    .dataframe thead th {\n",
       "        text-align: right;\n",
       "    }\n",
       "</style>\n",
       "<table border=\"1\" class=\"dataframe\">\n",
       "  <thead>\n",
       "    <tr style=\"text-align: right;\">\n",
       "      <th></th>\n",
       "      <th>name</th>\n",
       "      <th>phone</th>\n",
       "      <th>address</th>\n",
       "    </tr>\n",
       "  </thead>\n",
       "  <tbody>\n",
       "    <tr>\n",
       "      <th>0</th>\n",
       "      <td>Wadhawa Singh Sokhi &amp; Co. - Timber Traders In ...</td>\n",
       "      <td>+919815561537</td>\n",
       "      <td>C-37, Cellulosics Rd</td>\n",
       "    </tr>\n",
       "    <tr>\n",
       "      <th>1</th>\n",
       "      <td>Shree Ganesh Plywood</td>\n",
       "      <td>+919878006455</td>\n",
       "      <td>Opposite sahil welding works, Sector 78, near ...</td>\n",
       "    </tr>\n",
       "    <tr>\n",
       "      <th>2</th>\n",
       "      <td>Punjab Timbers - Timber Supplier Mohali</td>\n",
       "      <td>+918872852000</td>\n",
       "      <td>Plot No.165</td>\n",
       "    </tr>\n",
       "    <tr>\n",
       "      <th>3</th>\n",
       "      <td>Greenply - Plywood Galaxy</td>\n",
       "      <td>+917942784652</td>\n",
       "      <td>419-420, Bulk Material Market, Phase 11, Secto...</td>\n",
       "    </tr>\n",
       "    <tr>\n",
       "      <th>4</th>\n",
       "      <td>Guru Kripa Timber</td>\n",
       "      <td>+919463032457</td>\n",
       "      <td>Shop No.C, 30</td>\n",
       "    </tr>\n",
       "    <tr>\n",
       "      <th>...</th>\n",
       "      <td>...</td>\n",
       "      <td>...</td>\n",
       "      <td>...</td>\n",
       "    </tr>\n",
       "    <tr>\n",
       "      <th>83</th>\n",
       "      <td>Bhawani Plywoods Pvt Ltd</td>\n",
       "      <td>+919914411999</td>\n",
       "      <td>Chandigarh</td>\n",
       "    </tr>\n",
       "    <tr>\n",
       "      <th>84</th>\n",
       "      <td>FINE CREATO</td>\n",
       "      <td>+919780891733</td>\n",
       "      <td>PLOT NO. 445</td>\n",
       "    </tr>\n",
       "    <tr>\n",
       "      <th>85</th>\n",
       "      <td>Merino Experience Center - Chandigarh</td>\n",
       "      <td>+917087001162</td>\n",
       "      <td>Chandigarh</td>\n",
       "    </tr>\n",
       "    <tr>\n",
       "      <th>86</th>\n",
       "      <td>Dhiman Plywood</td>\n",
       "      <td>+919463735439</td>\n",
       "      <td>Sahibzada Ajit Singh Nagar, Punjab</td>\n",
       "    </tr>\n",
       "    <tr>\n",
       "      <th>87</th>\n",
       "      <td>Kalka Ply World</td>\n",
       "      <td>+919872833444</td>\n",
       "      <td>Chandigarh</td>\n",
       "    </tr>\n",
       "  </tbody>\n",
       "</table>\n",
       "<p>88 rows × 3 columns</p>\n",
       "</div>"
      ],
      "text/plain": [
       "                                                 name          phone  \\\n",
       "0   Wadhawa Singh Sokhi & Co. - Timber Traders In ...  +919815561537   \n",
       "1                                Shree Ganesh Plywood  +919878006455   \n",
       "2             Punjab Timbers - Timber Supplier Mohali  +918872852000   \n",
       "3                           Greenply - Plywood Galaxy  +917942784652   \n",
       "4                                   Guru Kripa Timber  +919463032457   \n",
       "..                                                ...            ...   \n",
       "83                           Bhawani Plywoods Pvt Ltd  +919914411999   \n",
       "84                                        FINE CREATO  +919780891733   \n",
       "85              Merino Experience Center - Chandigarh  +917087001162   \n",
       "86                                     Dhiman Plywood  +919463735439   \n",
       "87                                    Kalka Ply World  +919872833444   \n",
       "\n",
       "                                              address  \n",
       "0                                C-37, Cellulosics Rd  \n",
       "1   Opposite sahil welding works, Sector 78, near ...  \n",
       "2                                         Plot No.165  \n",
       "3   419-420, Bulk Material Market, Phase 11, Secto...  \n",
       "4                                       Shop No.C, 30  \n",
       "..                                                ...  \n",
       "83                                         Chandigarh  \n",
       "84                                       PLOT NO. 445  \n",
       "85                                         Chandigarh  \n",
       "86                 Sahibzada Ajit Singh Nagar, Punjab  \n",
       "87                                         Chandigarh  \n",
       "\n",
       "[88 rows x 3 columns]"
      ]
     },
     "execution_count": 90,
     "metadata": {},
     "output_type": "execute_result"
    }
   ],
   "source": [
    "file"
   ]
  },
  {
   "cell_type": "code",
   "execution_count": 84,
   "id": "e228249e",
   "metadata": {},
   "outputs": [],
   "source": [
    "import os\n",
    "df = pd.DataFrame()\n",
    "for files in os.listdir(f'result/{location}'):\n",
    "\n",
    "    if files!= f'{query}.csv':\n",
    "#         print(files)\n",
    "        new_df = pd.read_csv(f'result/{location}/{files}')\n",
    "        df = pd.concat([df,new_df])\n",
    "\n",
    "df = df.drop_duplicates().reset_index(drop = True).drop(columns=['Unnamed: 0'])"
   ]
  },
  {
   "cell_type": "code",
   "execution_count": 85,
   "id": "ea560c65",
   "metadata": {},
   "outputs": [
    {
     "data": {
      "text/html": [
       "<div>\n",
       "<style scoped>\n",
       "    .dataframe tbody tr th:only-of-type {\n",
       "        vertical-align: middle;\n",
       "    }\n",
       "\n",
       "    .dataframe tbody tr th {\n",
       "        vertical-align: top;\n",
       "    }\n",
       "\n",
       "    .dataframe thead th {\n",
       "        text-align: right;\n",
       "    }\n",
       "</style>\n",
       "<table border=\"1\" class=\"dataframe\">\n",
       "  <thead>\n",
       "    <tr style=\"text-align: right;\">\n",
       "      <th></th>\n",
       "      <th>name</th>\n",
       "      <th>address</th>\n",
       "      <th>phone</th>\n",
       "    </tr>\n",
       "  </thead>\n",
       "  <tbody>\n",
       "    <tr>\n",
       "      <th>0</th>\n",
       "      <td>Falcon Modular Furniture Stores</td>\n",
       "      <td>Chandigarh, Punjab</td>\n",
       "      <td>+919814108880</td>\n",
       "    </tr>\n",
       "    <tr>\n",
       "      <th>1</th>\n",
       "      <td>Furniture Factory</td>\n",
       "      <td>Plot no D, Backside ESI hospital, 124</td>\n",
       "      <td>+918146930494</td>\n",
       "    </tr>\n",
       "    <tr>\n",
       "      <th>2</th>\n",
       "      <td>Northern Furniture... Northern india Steel fab...</td>\n",
       "      <td>plot no, c, 5, Phase 1</td>\n",
       "      <td>+919815007404</td>\n",
       "    </tr>\n",
       "    <tr>\n",
       "      <th>3</th>\n",
       "      <td>Guru Nanak Steel Furniture- Cupboard Furniture...</td>\n",
       "      <td>Plot no 544 Phase, 9</td>\n",
       "      <td>+919781300544</td>\n",
       "    </tr>\n",
       "    <tr>\n",
       "      <th>4</th>\n",
       "      <td>FALCON INDIA</td>\n",
       "      <td>503</td>\n",
       "      <td>+919814108880</td>\n",
       "    </tr>\n",
       "    <tr>\n",
       "      <th>...</th>\n",
       "      <td>...</td>\n",
       "      <td>...</td>\n",
       "      <td>...</td>\n",
       "    </tr>\n",
       "    <tr>\n",
       "      <th>316</th>\n",
       "      <td>Dimi Arch &amp; Decor</td>\n",
       "      <td>MPPJ+G69, kharar</td>\n",
       "      <td>NOT AVAILABLE</td>\n",
       "    </tr>\n",
       "    <tr>\n",
       "      <th>317</th>\n",
       "      <td>Noor Architects Consultants</td>\n",
       "      <td>10+ years in business · 747</td>\n",
       "      <td>NOT AVAILABLE</td>\n",
       "    </tr>\n",
       "    <tr>\n",
       "      <th>318</th>\n",
       "      <td>The Concept Designer</td>\n",
       "      <td>3+ years in business · 1232</td>\n",
       "      <td>+917341155639</td>\n",
       "    </tr>\n",
       "    <tr>\n",
       "      <th>319</th>\n",
       "      <td>ArchiDesignStudio - Architects &amp; Interior Desi...</td>\n",
       "      <td>Basement, Plot 50</td>\n",
       "      <td>+919779860036</td>\n",
       "    </tr>\n",
       "    <tr>\n",
       "      <th>320</th>\n",
       "      <td>Vandana Nagpal Design Works</td>\n",
       "      <td>25+ years in business · Plot no 14 Plot no 14 ...</td>\n",
       "      <td>+919815959590</td>\n",
       "    </tr>\n",
       "  </tbody>\n",
       "</table>\n",
       "<p>321 rows × 3 columns</p>\n",
       "</div>"
      ],
      "text/plain": [
       "                                                  name  \\\n",
       "0                      Falcon Modular Furniture Stores   \n",
       "1                                    Furniture Factory   \n",
       "2    Northern Furniture... Northern india Steel fab...   \n",
       "3    Guru Nanak Steel Furniture- Cupboard Furniture...   \n",
       "4                                         FALCON INDIA   \n",
       "..                                                 ...   \n",
       "316                                  Dimi Arch & Decor   \n",
       "317                        Noor Architects Consultants   \n",
       "318                               The Concept Designer   \n",
       "319  ArchiDesignStudio - Architects & Interior Desi...   \n",
       "320                        Vandana Nagpal Design Works   \n",
       "\n",
       "                                               address          phone  \n",
       "0                                   Chandigarh, Punjab  +919814108880  \n",
       "1                Plot no D, Backside ESI hospital, 124  +918146930494  \n",
       "2                               plot no, c, 5, Phase 1  +919815007404  \n",
       "3                                 Plot no 544 Phase, 9  +919781300544  \n",
       "4                                                  503  +919814108880  \n",
       "..                                                 ...            ...  \n",
       "316                                   MPPJ+G69, kharar  NOT AVAILABLE  \n",
       "317                        10+ years in business · 747  NOT AVAILABLE  \n",
       "318                        3+ years in business · 1232  +917341155639  \n",
       "319                                  Basement, Plot 50  +919779860036  \n",
       "320  25+ years in business · Plot no 14 Plot no 14 ...  +919815959590  \n",
       "\n",
       "[321 rows x 3 columns]"
      ]
     },
     "execution_count": 85,
     "metadata": {},
     "output_type": "execute_result"
    }
   ],
   "source": [
    "df"
   ]
  },
  {
   "cell_type": "code",
   "execution_count": 91,
   "id": "46e24cc5",
   "metadata": {},
   "outputs": [],
   "source": [
    "result = file[~file.isin(df.to_dict(orient='list')).all(axis=1)]"
   ]
  },
  {
   "cell_type": "code",
   "execution_count": 93,
   "id": "1ae394ad",
   "metadata": {},
   "outputs": [],
   "source": [
    "result = result.reset_index(drop = True)"
   ]
  },
  {
   "cell_type": "code",
   "execution_count": 99,
   "id": "85aeb872",
   "metadata": {},
   "outputs": [
    {
     "name": "stdout",
     "output_type": "stream",
     "text": [
      "Dear *M/s Luxmi Plywood & Hardware Mall, LPHM*, \n",
      "\n",
      "As a leading Mdf dealer in Mohali,  you understand the importance of offering high-quality products to your customers and have surely succeeded in it. \n",
      "\n",
      "To take it further, we are thrilled to introduce *Adlerwood MDF,XDHMR boards* and *CPL Boards* to you. They are engineered to exceed your expectations and deliver a superior wood solution that will set your business apart. \n",
      "\n",
      "We offer the following items: \n",
      "⭐MDF BOARD \n",
      "⭐XDHMR BOARD \n",
      "⭐BAGASSE BOARD \n",
      "⭐WOOD PARTICLE BOARD (also in 8x6ft and 9x6ft)\n",
      "\n",
      "*Catalogue: https://www.cplpanel.com/MDF.pdf* \n",
      "\n",
      "*Call us at: +919870299730* \n",
      "Or Reply to this message\n",
      "\n",
      "\n"
     ]
    }
   ],
   "source": [
    "print(f\"Dear *M/s {name}*, \\n\\nAs a leading {query.rstrip('s').capitalize()} in {location.capitalize()},  you understand the importance of offering high-quality products to your customers and have surely succeeded in it. \\n\\nTo take it further, we are thrilled to introduce *Adlerwood MDF,XDHMR boards* and *CPL Boards* to you. They are engineered to exceed your expectations and deliver a superior wood solution that will set your business apart. \\n\\nWe offer the following items: \\n⭐MDF BOARD \\n⭐XDHMR BOARD \\n⭐BAGASSE BOARD \\n⭐WOOD PARTICLE BOARD (also in 8x6ft and 9x6ft)\\n\\n*Catalogue: https://www.cplpanel.com/MDF.pdf* \\n\\n*Call us at: +919870299730* \\nOr Reply to this message\\n\\n\")\n",
    "\n"
   ]
  },
  {
   "cell_type": "code",
   "execution_count": 94,
   "id": "36aef5de",
   "metadata": {},
   "outputs": [],
   "source": [
    "message = f\"Dear *M/s {name}*, \\n\\nAs a leading {query.rstrip('s').capitalize()} in {location.capitalize()},  you understand the importance of offering high-quality products to your customers and have surely succeeded in it. \\n\\nTo take it further, we are thrilled to introduce *Adlerwood MDF,XDHMR boards* and *CPL Boards* to you. They are engineered to exceed your expectations and deliver a superior wood solution that will set your business apart. \\n\\nWe offer the following items: \\n⭐MDF BOARD \\n⭐XDHMR BOARD \\n⭐BAGASSE BOARD \\n⭐WOOD PARTICLE BOARD (also in 8x6ft and 9x6ft)\\n\\n*Catalogue: https://www.cplpanel.com/MDF.pdf* \\n\\n*Call us at: +919870299730* \\nOr Reply to this message\\n\\n\"\n",
    "\n",
    "\n",
    "\n"
   ]
  },
  {
   "cell_type": "code",
   "execution_count": 12,
   "id": "604457a0",
   "metadata": {},
   "outputs": [
    {
     "name": "stderr",
     "output_type": "stream",
     "text": [
      "2023-09-02 17:06:07.397 osascript[24556:1487670] CFURLGetFSRef was passed a URL which has no scheme (the URL will not work with other CFURL routines)\n",
      "2023-09-02 17:06:39.962 osascript[24561:1488083] CFURLGetFSRef was passed a URL which has no scheme (the URL will not work with other CFURL routines)\n",
      "2023-09-02 17:07:12.265 osascript[24569:1488555] CFURLGetFSRef was passed a URL which has no scheme (the URL will not work with other CFURL routines)\n",
      "2023-09-02 17:07:44.788 osascript[24581:1489055] CFURLGetFSRef was passed a URL which has no scheme (the URL will not work with other CFURL routines)\n",
      "2023-09-02 17:08:17.030 osascript[24586:1489471] CFURLGetFSRef was passed a URL which has no scheme (the URL will not work with other CFURL routines)\n",
      "2023-09-02 17:08:49.394 osascript[24590:1489892] CFURLGetFSRef was passed a URL which has no scheme (the URL will not work with other CFURL routines)\n",
      "2023-09-02 17:09:21.741 osascript[24601:1490356] CFURLGetFSRef was passed a URL which has no scheme (the URL will not work with other CFURL routines)\n",
      "2023-09-02 17:09:53.957 osascript[24606:1490742] CFURLGetFSRef was passed a URL which has no scheme (the URL will not work with other CFURL routines)\n",
      "2023-09-02 17:10:26.305 osascript[24612:1491181] CFURLGetFSRef was passed a URL which has no scheme (the URL will not work with other CFURL routines)\n",
      "2023-09-02 17:10:58.767 osascript[24616:1491669] CFURLGetFSRef was passed a URL which has no scheme (the URL will not work with other CFURL routines)\n",
      "2023-09-02 17:11:31.224 osascript[24621:1492300] CFURLGetFSRef was passed a URL which has no scheme (the URL will not work with other CFURL routines)\n",
      "2023-09-02 17:12:03.493 osascript[24629:1492964] CFURLGetFSRef was passed a URL which has no scheme (the URL will not work with other CFURL routines)\n",
      "2023-09-02 17:12:35.782 osascript[24639:1493737] CFURLGetFSRef was passed a URL which has no scheme (the URL will not work with other CFURL routines)\n",
      "2023-09-02 17:13:08.065 osascript[24642:1494400] CFURLGetFSRef was passed a URL which has no scheme (the URL will not work with other CFURL routines)\n",
      "2023-09-02 17:13:40.307 osascript[24645:1494985] CFURLGetFSRef was passed a URL which has no scheme (the URL will not work with other CFURL routines)\n",
      "2023-09-02 17:14:12.822 osascript[24650:1495772] CFURLGetFSRef was passed a URL which has no scheme (the URL will not work with other CFURL routines)\n",
      "2023-09-02 17:14:45.153 osascript[24653:1496377] CFURLGetFSRef was passed a URL which has no scheme (the URL will not work with other CFURL routines)\n",
      "2023-09-02 17:15:17.365 osascript[24657:1496997] CFURLGetFSRef was passed a URL which has no scheme (the URL will not work with other CFURL routines)\n",
      "2023-09-02 17:15:49.555 osascript[24662:1497633] CFURLGetFSRef was passed a URL which has no scheme (the URL will not work with other CFURL routines)\n",
      "2023-09-02 17:16:21.920 osascript[24666:1498275] CFURLGetFSRef was passed a URL which has no scheme (the URL will not work with other CFURL routines)\n",
      "2023-09-02 17:16:54.165 osascript[24670:1498929] CFURLGetFSRef was passed a URL which has no scheme (the URL will not work with other CFURL routines)\n",
      "2023-09-02 17:17:26.406 osascript[24672:1499529] CFURLGetFSRef was passed a URL which has no scheme (the URL will not work with other CFURL routines)\n",
      "2023-09-02 17:17:58.838 osascript[24677:1500143] CFURLGetFSRef was passed a URL which has no scheme (the URL will not work with other CFURL routines)\n",
      "2023-09-02 17:18:31.272 osascript[24680:1500796] CFURLGetFSRef was passed a URL which has no scheme (the URL will not work with other CFURL routines)\n",
      "2023-09-02 17:19:03.633 osascript[24683:1501642] CFURLGetFSRef was passed a URL which has no scheme (the URL will not work with other CFURL routines)\n",
      "2023-09-02 17:19:36.050 osascript[24693:1502421] CFURLGetFSRef was passed a URL which has no scheme (the URL will not work with other CFURL routines)\n",
      "2023-09-02 17:20:08.259 osascript[24697:1503053] CFURLGetFSRef was passed a URL which has no scheme (the URL will not work with other CFURL routines)\n",
      "2023-09-02 17:20:40.465 osascript[24700:1503664] CFURLGetFSRef was passed a URL which has no scheme (the URL will not work with other CFURL routines)\n",
      "2023-09-02 17:21:12.731 osascript[24703:1504301] CFURLGetFSRef was passed a URL which has no scheme (the URL will not work with other CFURL routines)\n",
      "2023-09-02 17:21:44.992 osascript[24707:1504917] CFURLGetFSRef was passed a URL which has no scheme (the URL will not work with other CFURL routines)\n",
      "2023-09-02 17:22:17.326 osascript[24711:1505501] CFURLGetFSRef was passed a URL which has no scheme (the URL will not work with other CFURL routines)\n",
      "2023-09-02 17:22:49.608 osascript[24720:1506174] CFURLGetFSRef was passed a URL which has no scheme (the URL will not work with other CFURL routines)\n",
      "2023-09-02 17:23:21.884 osascript[24722:1506752] CFURLGetFSRef was passed a URL which has no scheme (the URL will not work with other CFURL routines)\n",
      "2023-09-02 17:23:54.118 osascript[24724:1507340] CFURLGetFSRef was passed a URL which has no scheme (the URL will not work with other CFURL routines)\n",
      "2023-09-02 17:24:26.498 osascript[24726:1507985] CFURLGetFSRef was passed a URL which has no scheme (the URL will not work with other CFURL routines)\n"
     ]
    },
    {
     "name": "stdout",
     "output_type": "stream",
     "text": [
      "Successfully Sent!\n"
     ]
    }
   ],
   "source": [
    "for i in range(len(file)):\n",
    "    try:\n",
    "        name = file['name'][i]\n",
    "        number = file['phone'][i]\n",
    "        message = f\"Dear *M/s {name}*, \\n\\nAs a leading {query.rstrip('s').capitalize()} in {location.capitalize()},  you understand the importance of offering high-quality products to your customers and have surely succeeded in it. \\n\\nTo take it further, we are thrilled to introduce *Adlerwood MDF,XDHMR boards* and *CPL Boards* to you. They are engineered to exceed your expectations and deliver a superior wood solution that will set your business apart. \\n\\nWe offer the following items: \\n⭐MDF BOARD \\n⭐XDHMR BOARD \\n⭐BAGASSE BOARD \\n⭐WOOD PARTICLE BOARD (also in 8x6ft and 9x6ft)\\n\\n*Catalogue: https://www.cplpanel.com/MDF.pdf* \\n\\n*Call us at: +919870299730* \\nOr Reply to this message\\n\\n\"\n",
    "\n",
    "        pywhatkit.sendwhats_image(receiver= number,img_path=\"logo.jpeg\", caption= message, wait_time = 15, tab_close= True, close_time = 15)\n",
    "    \n",
    "    except:\n",
    "        continue\n",
    "        \n",
    "print(\"Successfully Sent!\")"
   ]
  },
  {
   "cell_type": "code",
   "execution_count": 122,
   "id": "872271f9",
   "metadata": {},
   "outputs": [
    {
     "name": "stderr",
     "output_type": "stream",
     "text": [
      "2023-09-02 12:36:22.991 osascript[23235:1355292] CFURLGetFSRef was passed a URL which has no scheme (the URL will not work with other CFURL routines)\n"
     ]
    },
    {
     "name": "stdout",
     "output_type": "stream",
     "text": [
      "Successfully Sent!\n"
     ]
    }
   ],
   "source": [
    "\n",
    "\n",
    "# using Exception Handling to avoid\n",
    "# unprecedented errors\n",
    "\n",
    "pywhatkit.sendwhats_image(receiver= number,img_path=\"logo.jpeg\", caption= message, wait_time = 15, tab_close= True, close_time = 15)\n",
    "\n",
    "# pywhatkit.sendwhatmsg(\"+61458038009\",\n",
    "#                     \"Hello from Adlerwood India\\n\",\n",
    "#                     0, 29)\n",
    "print(\"Successfully Sent!\")\n"
   ]
  },
  {
   "cell_type": "code",
   "execution_count": null,
   "id": "56d50672",
   "metadata": {},
   "outputs": [],
   "source": []
  }
 ],
 "metadata": {
  "kernelspec": {
   "display_name": "Python 3 (ipykernel)",
   "language": "python",
   "name": "python3"
  },
  "language_info": {
   "codemirror_mode": {
    "name": "ipython",
    "version": 3
   },
   "file_extension": ".py",
   "mimetype": "text/x-python",
   "name": "python",
   "nbconvert_exporter": "python",
   "pygments_lexer": "ipython3",
   "version": "3.10.11"
  }
 },
 "nbformat": 4,
 "nbformat_minor": 5
}
